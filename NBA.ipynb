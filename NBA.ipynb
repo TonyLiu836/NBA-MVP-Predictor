{
  "cells": [
    {
      "cell_type": "markdown",
      "metadata": {
        "id": "view-in-github",
        "colab_type": "text"
      },
      "source": [
        "<a href=\"https://colab.research.google.com/github/TonyLiu836/NBA-MVP-Predictor/blob/main/NBA.ipynb\" target=\"_parent\"><img src=\"https://colab.research.google.com/assets/colab-badge.svg\" alt=\"Open In Colab\"/></a>"
      ]
    },
    {
      "cell_type": "code",
      "execution_count": null,
      "metadata": {
        "id": "H3RwcE2VVFHE"
      },
      "outputs": [],
      "source": [
        "!pip install nba_api\n",
        "!pip install requests"
      ]
    },
    {
      "cell_type": "code",
      "execution_count": null,
      "metadata": {
        "id": "OyYA6FzBZN5L"
      },
      "outputs": [],
      "source": [
        "import pandas as pd\n",
        "import requests"
      ]
    },
    {
      "cell_type": "markdown",
      "metadata": {
        "id": "w8svVwDvo0ei"
      },
      "source": [
        "## Data Collection"
      ]
    },
    {
      "cell_type": "markdown",
      "metadata": {
        "id": "SPPdindE3cTK"
      },
      "source": [
        "#### Get player stats by season"
      ]
    },
    {
      "cell_type": "code",
      "execution_count": null,
      "metadata": {
        "id": "20e1Ka7Eo0ek",
        "scrolled": true
      },
      "outputs": [],
      "source": [
        "from nba_api.stats.endpoints import teamplayerdashboard\n",
        "from nba_api.stats.endpoints import leaguedashteamstats\n",
        "from nba_api.stats.endpoints import playerdashboardbyyearoveryear\n",
        "import random\n",
        "import numpy as np\n",
        "\n",
        "# Get list of teams that played in a season\n",
        "def get_teams(start_year):\n",
        "    end_year = (start_year + 1) % 100\n",
        "    leagueteams = leaguedashteamstats.LeagueDashTeamStats(season=f'{start_year}-{end_year:02}')\n",
        "    teams = leagueteams.get_data_frames()[0]\n",
        "    return teams.loc[:, 'TEAM_ID']\n",
        "\n",
        "# Get list of players that played > 1000 min and scored > 600 points for a team in a season.\n",
        "# 1000 min and 600 points total is ~12 mpg and 7 ppg so this filters out players that don't get much playtime.\n",
        "def get_players(team_id, start_year):\n",
        "    end_year = (start_year + 1) % 100\n",
        "    teamplayers = teamplayerdashboard.TeamPlayerDashboard(team_id, season=f'{start_year}-{end_year:02}')\n",
        "    players = teamplayers.get_data_frames()[1]\n",
        "    good_players = players[players.loc[:,'MIN'] > 1000]\n",
        "    good_players = good_players[good_players.loc[:, 'PTS'] > 600]\n",
        "    return good_players.loc[:, ['PLAYER_ID', 'PLAYER_NAME']]\n",
        "\n",
        "# Get player stats for a season\n",
        "def get_player_stats(player_id, start_year):\n",
        "    end_year = (start_year + 1) % 100\n",
        "    playerdashboard = playerdashboardbyyearoveryear.PlayerDashboardByYearOverYear(player_id, per_mode_detailed='PerGame')\n",
        "    stats = playerdashboard.get_data_frames()[1]\n",
        "    seasonstats = stats[stats['GROUP_VALUE'] == f'{start_year}-{end_year:02}']\n",
        "    return seasonstats.drop(columns=['GROUP_SET', 'TEAM_ID', 'MAX_GAME_DATE', 'CFID', 'CFPARAMS'])\n",
        "\n",
        "teams_2020 = get_teams(2020)\n",
        "rand_team = get_players(teams_2020.iat[random.randint(0, 29)], 2020)\n",
        "print(rand_team.shape)\n",
        "rand_player = rand_team.iloc[random.randint(0, 5), :]\n",
        "print(rand_player)\n",
        "stats = get_player_stats(rand_player.iat[0], 2020)\n",
        "print(stats)\n",
        "print(stats.columns)"
      ]
    },
    {
      "cell_type": "code",
      "execution_count": null,
      "metadata": {
        "id": "KQJ2xlHRo0em",
        "scrolled": true
      },
      "outputs": [],
      "source": [
        "import pandas as pd\n",
        "import time\n",
        "from nba_api.stats.endpoints import teamplayerdashboard\n",
        "from nba_api.stats.endpoints import leaguedashteamstats\n",
        "\n",
        "# Iterate through each season and save data to csv\n",
        "for start_year in range(2012, 2022):\n",
        "    data = []\n",
        "    end_year = (start_year + 1) % 100\n",
        "    print(f'{start_year}-{end_year:02}')\n",
        "    leagueteams = get_teams(start_year)\n",
        "    for team_id in leagueteams:\n",
        "        players = get_players(team_id, start_year)\n",
        "        for player in players.itertuples():\n",
        "            print(player)\n",
        "            time.sleep(1)\n",
        "            stats = get_player_stats(player[1], start_year)\n",
        "            stats.insert(0, \"PLAYER_NAME\", player[2])\n",
        "            data.append(stats)\n",
        "    \n",
        "    big_data = pd.concat(data)\n",
        "    big_data.to_csv(f'{start_year}-{end_year:02}.csv')"
      ]
    },
    {
      "cell_type": "markdown",
      "metadata": {
        "id": "N0T7JpNP3cTS"
      },
      "source": [
        "#### Get MVP List, MVP Votes, ROY Votes"
      ]
    },
    {
      "cell_type": "code",
      "execution_count": null,
      "metadata": {
        "id": "UUuLPPkOo0er"
      },
      "outputs": [],
      "source": [
        "from bs4 import BeautifulSoup\n",
        "\n",
        "URL = \"https://www.nba.com/news/history-mvp-award-winners\"\n",
        "page = requests.get(URL)\n",
        "\n",
        "#webscrape NBA.com's mvp page for MVP names and corresponding years\n",
        "def get_MVP_List():\n",
        "    soup = BeautifulSoup(page.content, \"html.parser\")\n",
        "    results = soup.find(id = \"__next\")\n",
        "    players = results.find_all(\"div\", class_=\"Article_article__2Ue3h\")\n",
        "    rawData = []\n",
        "    for sample in players:\n",
        "      mvps = sample.find_all(\"p\")\n",
        "      for mvp in mvps:\n",
        "        rawData.append(str(mvp))\n",
        "\n",
        "    rawData = rawData[2:]\n",
        "    mvp_list = []\n",
        "    for j in rawData:\n",
        "      j = j[3:]                   #get rid of <p> and </p>\n",
        "      j = j[:-4]\n",
        "      info = j.split()  \n",
        "      mvp_list.append([info[0], info[2] + \" \" + info[3], info[4] + \" \" + info[5]])\n",
        "\n",
        "    return mvp_list\n",
        "\n",
        "mvp_data = get_MVP_List()\n",
        "\n",
        "mvp_dataframe = pd.DataFrame(mvp_data, columns = [\"season\", \"Name\", \"Team\"])\n",
        "mvp_dataframe.to_csv(\"MVP_List.csv\", index = False)\n",
        "\n"
      ]
    },
    {
      "cell_type": "code",
      "execution_count": null,
      "metadata": {
        "collapsed": true,
        "id": "aRaYRxUY-xcv",
        "outputId": "2eebc644-d851-4adb-bda8-be8199e3896a"
      },
      "outputs": [
        {
          "name": "stdout",
          "output_type": "stream",
          "text": [
            "2021\n",
            "mvp\n",
            "roy\n",
            "2020\n",
            "mvp\n",
            "roy\n",
            "2019\n",
            "mvp\n",
            "roy\n",
            "2018\n",
            "mvp\n",
            "roy\n",
            "2017\n",
            "mvp\n",
            "roy\n",
            "2016\n",
            "mvp\n",
            "roy\n",
            "2015\n",
            "mvp\n",
            "roy\n",
            "2014\n",
            "mvp\n",
            "roy\n",
            "2013\n",
            "mvp\n",
            "roy\n",
            "2012\n",
            "mvp\n",
            "roy\n",
            "2011\n",
            "mvp\n",
            "roy\n",
            "2010\n",
            "mvp\n",
            "roy\n",
            "2009\n",
            "mvp\n",
            "roy\n",
            "2008\n",
            "mvp\n",
            "roy\n",
            "2007\n",
            "mvp\n",
            "roy\n",
            "2006\n",
            "mvp\n",
            "roy\n",
            "2005\n",
            "mvp\n",
            "roy\n",
            "2004\n",
            "mvp\n",
            "roy\n",
            "2003\n",
            "mvp\n",
            "roy\n",
            "2002\n",
            "mvp\n",
            "roy\n",
            "2001\n",
            "mvp\n",
            "roy\n",
            "2000\n",
            "mvp\n",
            "roy\n",
            "1999\n",
            "mvp\n",
            "roy\n",
            "1998\n",
            "mvp\n",
            "roy\n",
            "1997\n",
            "mvp\n",
            "roy\n"
          ]
        }
      ],
      "source": [
        "import pandas as pd\n",
        "from bs4 import BeautifulSoup\n",
        "import time, requests\n",
        "#mvp_list = pd.read_csv (r'/content/drive/MyDrive/NBA_MLProject/MVP_List.csv')\n",
        "mvp_list = pd.read_csv('data/MVP_List.csv')\n",
        "samples = mvp_list.loc[mvp_list[\"season\"] >= \"1996-97\"]\n",
        "seasons = samples[\"season\"]\n",
        "seasons = [season[0:4] for season in seasons]\n",
        "\n",
        "def getAwardVotes(seasons):\n",
        "    award_names = [\"mvp\", \"roy\"]\n",
        "    table_data = []\n",
        "    for season in seasons:\n",
        "        year = int(season) + 1\n",
        "        print(year)\n",
        "        time.sleep(1)\n",
        "        URL = \"https://www.basketball-reference.com/awards/awards_\" + str(year) + \".html\"\n",
        "        page = requests.get(URL)\n",
        "        soup = BeautifulSoup(page.content, \"html.parser\")\n",
        "\n",
        "        for award in award_names:\n",
        "            print(award)\n",
        "            tables = soup.find(\"table\", id = award)\n",
        "            stats = tables.find(\"tbody\").find_all(\"tr\")\n",
        "\n",
        "            for row in stats:\n",
        "                player_name = row.find(\"td\", {\"data-stat\":\"player\"}).find(\"a\").get_text()\n",
        "                first_votes = row.find(\"td\", {\"data-stat\":\"votes_first\"}).get_text()\n",
        "                pts_won = row.find(\"td\", {\"data-stat\":\"points_won\"}).get_text()\n",
        "                pts_max = row.find(\"td\", {\"data-stat\":\"points_max\"}).get_text()\n",
        "                award_share = row.find(\"td\", {\"data-stat\":\"award_share\"}).get_text()\n",
        "                table_data.append([season + \"-\" + str(year)[-2:], award,player_name, first_votes,pts_won, pts_max, award_share])\n",
        "    return table_data\n",
        "\n",
        "awards_data = getAwardVotes(seasons)\n",
        "awards_dataframe = pd.DataFrame(awards_data, columns = [\"season\",\"Award\", \"Name\", \"First Votes\", \"Points Won\", \"Max Points\", \"Award Shares\"])\n",
        "awards_dataframe.to_csv(\"data\\Awards_Voting_Data.csv\", index=False)"
      ]
    },
    {
      "cell_type": "markdown",
      "metadata": {
        "id": "nF38wJnY3gnu"
      },
      "source": [
        "# Split Years Using K-Fold "
      ]
    },
    {
      "cell_type": "code",
      "execution_count": null,
      "metadata": {
        "id": "s7HGITML3qcC"
      },
      "outputs": [],
      "source": [
        "import pandas as pd\n",
        "from sklearn.model_selection import KFold\n",
        "\n",
        "num_folds = 5\n",
        "\n",
        "def splitDataYears():\n",
        "    #mvp_list = pd.read_csv(r'/content/drive/MyDrive/MVP_List.csv')          #make sure to change path to MVP_List.csv file\n",
        "    mvp_list = pd.read_csv('data/MVP_List.csv')\n",
        "    samples = mvp_list.loc[mvp_list[\"season\"] >= \"1996-97\"]\n",
        "    years = samples[\"season\"]\n",
        "    trainingSamples = years.sample(frac=0.8)    #80/20 split for training/testing data \n",
        "    testSamples = years.drop(trainingSamples.index)\n",
        "    kf = KFold(n_splits=num_folds, shuffle=True, random_state=None)   #split training data into 5 folds, each fold contains 4 seasons\n",
        "\n",
        "    trainingFolds = []\n",
        "    for train, valid in kf.split(trainingSamples):\n",
        "      trainingFolds.append([trainingSamples.iloc[train].values.tolist(), trainingSamples.iloc[valid].values.tolist()])\n",
        "      \n",
        "    testData = []\n",
        "    for i in range(testSamples.size):\n",
        "      testData.append(testSamples.iloc[i])\n",
        "    return trainingFolds, testData\n",
        "\n",
        "trainingSet, testingSet = splitDataYears()\n",
        "# trainingSet = [[80% of seasons (train)],[20% of seasons (test)]] * 5\n",
        "# testingSet = [season] * 5\n",
        "  "
      ]
    },
    {
      "cell_type": "code",
      "execution_count": null,
      "metadata": {
        "id": "HpCvXQMy8_Nz"
      },
      "outputs": [],
      "source": [
        "trainingSet[0][0]"
      ]
    },
    {
      "cell_type": "code",
      "execution_count": null,
      "metadata": {
        "scrolled": true,
        "id": "AEjCMWUI8_N0"
      },
      "outputs": [],
      "source": [
        "import pandas as pd\n",
        "drop_cols = ['Unnamed: 0', 'GROUP_VALUE', 'TEAM_ABBREVIATION', 'NBA_FANTASY_PTS',\n",
        "                'GP_RANK', 'W_RANK', 'L_RANK', 'W_PCT_RANK', 'MIN_RANK',\n",
        "                'FGM_RANK', 'FGA_RANK', 'FG_PCT_RANK', 'FG3M_RANK', 'FG3A_RANK', 'FG3_PCT_RANK', \n",
        "                'FTM_RANK', 'FTA_RANK', 'FT_PCT_RANK', 'OREB_RANK', 'DREB_RANK', 'REB_RANK',\n",
        "                'AST_RANK', 'TOV_RANK', 'STL_RANK', 'BLK_RANK', 'BLKA_RANK', 'PF_RANK', 'PFD_RANK',\n",
        "                'PTS_RANK', 'PLUS_MINUS_RANK', 'NBA_FANTASY_PTS_RANK', 'DD2_RANK', 'TD3_RANK']\n",
        "\n",
        "vote_data = pd.read_csv(\"/home/data/data/Awards_Voting_Data.csv\")\n",
        "\n",
        "mvp_vote_data = vote_data.loc[vote_data['Award'] == \"mvp\"]\n",
        "roy_vote_data = vote_data.loc[vote_data[\"Award\"] == \"roy\"]\n",
        "\n",
        "\n",
        "train = [[pd.read_csv(f\"/home/data/data/{season}.csv\")\n",
        "         for season in trainingSet[k][0]] for k in range(num_folds)]\n",
        "\n",
        "val = [[pd.read_csv(f\"/home/data/data/{season}.csv\")#.drop(columns=drop_cols).drop_duplicates(subset=['PLAYER_NAME'])\n",
        "         for season in trainingSet[k][1]] for k in range(num_folds)]\n",
        "\n",
        "test = [[pd.read_csv(f\"/home/data/data/{season}.csv\")#.drop(columns=drop_cols).drop_duplicates(subset=['PLAYER_NAME'])\n",
        "         for season in testingSet]]\n",
        "\n",
        "\n",
        "#add award shares column \n",
        "for i in range(len(train)):\n",
        "    for j in range(len(train[i])):\n",
        "        train[i][j][\"award_shares\"] = 0\n",
        "\n",
        "for i in range(len(val)):\n",
        "    for j in range(len(val[i])):\n",
        "        val[i][j][\"award_shares\"] = 0\n",
        "\n",
        "for i in range(len(test)):\n",
        "    for j in range(len(test[i])):\n",
        "        test[i][j][\"award_shares\"] = 0\n"
      ]
    },
    {
      "cell_type": "code",
      "execution_count": null,
      "metadata": {
        "id": "n2vnPsTR8_N1"
      },
      "outputs": [],
      "source": [
        "#process training data\n",
        "for index, row in mvp_vote_data.iterrows():\n",
        "    for i in range(len(train)):\n",
        "        for j in range(len(train[i])):\n",
        "            if row[\"Name\"] in train[i][j].values and row[\"season\"] in train[i][j].values:\n",
        "                idx = train[i][j].loc[(train[i][j].PLAYER_NAME == row[\"Name\"]) & (train[i][j].GROUP_VALUE == row[\"season\"])].index.tolist()\n",
        "                train[i][j].loc[idx, \"award_shares\"] = row[\"Award Shares\"]\n",
        "\n",
        "for i in range(len(train)):\n",
        "    for j in range(len(train[i])):\n",
        "        if \"DD2_RANK\" in train[i][j]:\n",
        "                train[i][j] = train[i][j].drop(columns=drop_cols,axis=1).drop_duplicates(subset=['PLAYER_NAME'])\n",
        "        if \"PLAYER_NAME\" in train[i][j]:\n",
        "            train[i][j] = train[i][j].drop(columns = [\"PLAYER_NAME\"])\n",
        "            train[i][j].loc[:, train[i][j].columns != \"award_shares\"] = train[i][j].loc[:, train[i][j].columns != \"award_shares\"].apply(lambda x: (x - x.min()) / (x.max() - x.min()))\n",
        "\n",
        "\n",
        "#process validation data\n",
        "for index, row in mvp_vote_data.iterrows():\n",
        "    for i in range(len(val)):\n",
        "        for j in range(len(val[i])):\n",
        "            if row[\"Name\"] in val[i][j].values and row[\"season\"] in val[i][j].values:\n",
        "                idx = val[i][j].loc[(val[i][j].PLAYER_NAME == row[\"Name\"]) & (val[i][j].GROUP_VALUE == row[\"season\"])].index.tolist()\n",
        "                val[i][j].loc[idx, \"award_shares\"] = row[\"Award Shares\"]\n",
        "\n",
        "for i in range(len(val)):\n",
        "    for j in range(len(val[i])):\n",
        "        if \"DD2_RANK\" in val[i][j]:\n",
        "            val[i][j] = val[i][j].drop(columns=drop_cols,axis=1).drop_duplicates(subset=['PLAYER_NAME'])\n",
        "        if \"PLAYER_NAME\" in val[i][j]:\n",
        "            val[i][j] = val[i][j].drop(columns = [\"PLAYER_NAME\"])\n",
        "            val[i][j].loc[:, val[i][j].columns != \"award_shares\"] = val[i][j].loc[:, val[i][j].columns != \"award_shares\"].apply(lambda x: (x - x.min()) / (x.max() - x.min()))\n",
        "\n",
        "\n",
        "#process test data\n",
        "for index, row in mvp_vote_data.iterrows():\n",
        "    for i in range(len(test)):\n",
        "        for j in range(len(test[i])):\n",
        "            if row[\"Name\"] in test[i][j].values and row[\"season\"] in test[i][j].values:\n",
        "                idx = test[i][j].loc[(test[i][j].PLAYER_NAME == row[\"Name\"]) & (test[i][j].GROUP_VALUE == row[\"season\"])].index.tolist()\n",
        "                test[i][j].loc[idx, \"award_shares\"] = row[\"Award Shares\"]\n",
        "\n",
        "for k in range(len(test)):\n",
        "    for i in range(len(test[k])):\n",
        "        if \"DD2_RANK\" in test[k][i]:\n",
        "            test[k][i] = test[k][i].drop(columns=drop_cols,axis=1).drop_duplicates(subset=['PLAYER_NAME'])\n",
        "        if \"PLAYER_NAME\" in test[k][i]:\n",
        "            test[k][i] = test[k][i].drop(columns = [\"PLAYER_NAME\"])\n",
        "            test[k][i].loc[:, test[k][i].columns != \"award_shares\"] = test[k][i].loc[:, test[k][i].columns != \"award_shares\"].apply(lambda x: (x - x.min()) / (x.max() - x.min()))\n",
        "        "
      ]
    },
    {
      "cell_type": "code",
      "execution_count": null,
      "metadata": {
        "id": "i-7UvxNi8_N2"
      },
      "outputs": [],
      "source": [
        ""
      ]
    }
  ],
  "metadata": {
    "colab": {
      "collapsed_sections": [],
      "name": "NBA.ipynb",
      "provenance": [],
      "include_colab_link": true
    },
    "kernelspec": {
      "display_name": "Python 3",
      "language": "python",
      "name": "python3"
    },
    "language_info": {
      "codemirror_mode": {
        "name": "ipython",
        "version": 3
      },
      "file_extension": ".py",
      "mimetype": "text/x-python",
      "name": "python",
      "nbconvert_exporter": "python",
      "pygments_lexer": "ipython3",
      "version": "3.8.8"
    }
  },
  "nbformat": 4,
  "nbformat_minor": 0
}